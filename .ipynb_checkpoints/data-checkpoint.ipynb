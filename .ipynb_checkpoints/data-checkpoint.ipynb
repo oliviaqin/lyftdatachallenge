{
 "cells": [
  {
   "cell_type": "markdown",
   "metadata": {},
   "source": [
    "# Lyft Data Challenge\n",
    "\n",
    "The following notebook is for analyzing and visualizing the data provided by Lyft. Refer to the Lyft Data Challenge Doc for more information. "
   ]
  },
  {
   "cell_type": "code",
   "execution_count": 1,
   "metadata": {},
   "outputs": [],
   "source": [
    "import numpy as np\n",
    "import pandas as pd\n",
    "import matplotlib.pyplot as plt\n",
    "import seaborn as sns"
   ]
  },
  {
   "cell_type": "markdown",
   "metadata": {},
   "source": [
    "## driver_ids.csv\n",
    "**driver_id** - Unique identifier for a driver  \n",
    "**driver_onboard_date** - Date on which driver was on-boarded"
   ]
  },
  {
   "cell_type": "code",
   "execution_count": 138,
   "metadata": {},
   "outputs": [
    {
     "data": {
      "text/html": [
       "<div>\n",
       "<style scoped>\n",
       "    .dataframe tbody tr th:only-of-type {\n",
       "        vertical-align: middle;\n",
       "    }\n",
       "\n",
       "    .dataframe tbody tr th {\n",
       "        vertical-align: top;\n",
       "    }\n",
       "\n",
       "    .dataframe thead th {\n",
       "        text-align: right;\n",
       "    }\n",
       "</style>\n",
       "<table border=\"1\" class=\"dataframe\">\n",
       "  <thead>\n",
       "    <tr style=\"text-align: right;\">\n",
       "      <th></th>\n",
       "      <th>driver_id</th>\n",
       "      <th>driver_onboard_date</th>\n",
       "    </tr>\n",
       "  </thead>\n",
       "  <tbody>\n",
       "    <tr>\n",
       "      <th>0</th>\n",
       "      <td>002be0ffdc997bd5c50703158b7c2491</td>\n",
       "      <td>2016-03-29 00:00:00</td>\n",
       "    </tr>\n",
       "    <tr>\n",
       "      <th>1</th>\n",
       "      <td>007f0389f9c7b03ef97098422f902e62</td>\n",
       "      <td>2016-03-29 00:00:00</td>\n",
       "    </tr>\n",
       "    <tr>\n",
       "      <th>2</th>\n",
       "      <td>011e5c5dfc5c2c92501b8b24d47509bc</td>\n",
       "      <td>2016-04-05 00:00:00</td>\n",
       "    </tr>\n",
       "    <tr>\n",
       "      <th>3</th>\n",
       "      <td>0152a2f305e71d26cc964f8d4411add9</td>\n",
       "      <td>2016-04-23 00:00:00</td>\n",
       "    </tr>\n",
       "    <tr>\n",
       "      <th>4</th>\n",
       "      <td>01674381af7edd264113d4e6ed55ecda</td>\n",
       "      <td>2016-04-29 00:00:00</td>\n",
       "    </tr>\n",
       "  </tbody>\n",
       "</table>\n",
       "</div>"
      ],
      "text/plain": [
       "                          driver_id  driver_onboard_date\n",
       "0  002be0ffdc997bd5c50703158b7c2491  2016-03-29 00:00:00\n",
       "1  007f0389f9c7b03ef97098422f902e62  2016-03-29 00:00:00\n",
       "2  011e5c5dfc5c2c92501b8b24d47509bc  2016-04-05 00:00:00\n",
       "3  0152a2f305e71d26cc964f8d4411add9  2016-04-23 00:00:00\n",
       "4  01674381af7edd264113d4e6ed55ecda  2016-04-29 00:00:00"
      ]
     },
     "execution_count": 138,
     "metadata": {},
     "output_type": "execute_result"
    }
   ],
   "source": [
    "driver_ids = pd.read_csv(\"driver_ids.csv\")\n",
    "driver_ids.head()"
   ]
  },
  {
   "cell_type": "markdown",
   "metadata": {},
   "source": [
    "## ride_ids.csv\n",
    "**driver_id** - Unique identifier for a driver  \n",
    "**ride_id** - Unique identifier for a ride that was completed by the driver  \n",
    "**ride_distance** - Ride distance in **meters**  \n",
    "**ride_duration** - Ride duration in **seconds**  \n",
    "**ride_prime_time** - Prime Time -*percentage increase to the fare* - applied on the ride  "
   ]
  },
  {
   "cell_type": "code",
   "execution_count": 4,
   "metadata": {
    "scrolled": true
   },
   "outputs": [
    {
     "data": {
      "text/html": [
       "<div>\n",
       "<style scoped>\n",
       "    .dataframe tbody tr th:only-of-type {\n",
       "        vertical-align: middle;\n",
       "    }\n",
       "\n",
       "    .dataframe tbody tr th {\n",
       "        vertical-align: top;\n",
       "    }\n",
       "\n",
       "    .dataframe thead th {\n",
       "        text-align: right;\n",
       "    }\n",
       "</style>\n",
       "<table border=\"1\" class=\"dataframe\">\n",
       "  <thead>\n",
       "    <tr style=\"text-align: right;\">\n",
       "      <th></th>\n",
       "      <th>driver_id</th>\n",
       "      <th>ride_id</th>\n",
       "      <th>ride_distance</th>\n",
       "      <th>ride_duration</th>\n",
       "      <th>ride_prime_time</th>\n",
       "    </tr>\n",
       "  </thead>\n",
       "  <tbody>\n",
       "    <tr>\n",
       "      <th>0</th>\n",
       "      <td>002be0ffdc997bd5c50703158b7c2491</td>\n",
       "      <td>006d61cf7446e682f7bc50b0f8a5bea5</td>\n",
       "      <td>1811</td>\n",
       "      <td>327</td>\n",
       "      <td>50</td>\n",
       "    </tr>\n",
       "    <tr>\n",
       "      <th>1</th>\n",
       "      <td>002be0ffdc997bd5c50703158b7c2491</td>\n",
       "      <td>01b522c5c3a756fbdb12e95e87507eda</td>\n",
       "      <td>3362</td>\n",
       "      <td>809</td>\n",
       "      <td>0</td>\n",
       "    </tr>\n",
       "    <tr>\n",
       "      <th>2</th>\n",
       "      <td>002be0ffdc997bd5c50703158b7c2491</td>\n",
       "      <td>029227c4c2971ce69ff2274dc798ef43</td>\n",
       "      <td>3282</td>\n",
       "      <td>572</td>\n",
       "      <td>0</td>\n",
       "    </tr>\n",
       "    <tr>\n",
       "      <th>3</th>\n",
       "      <td>002be0ffdc997bd5c50703158b7c2491</td>\n",
       "      <td>034e861343a63ac3c18a9ceb1ce0ac69</td>\n",
       "      <td>65283</td>\n",
       "      <td>3338</td>\n",
       "      <td>25</td>\n",
       "    </tr>\n",
       "    <tr>\n",
       "      <th>4</th>\n",
       "      <td>002be0ffdc997bd5c50703158b7c2491</td>\n",
       "      <td>034f2e614a2f9fc7f1c2f77647d1b981</td>\n",
       "      <td>4115</td>\n",
       "      <td>823</td>\n",
       "      <td>100</td>\n",
       "    </tr>\n",
       "  </tbody>\n",
       "</table>\n",
       "</div>"
      ],
      "text/plain": [
       "                          driver_id                           ride_id  \\\n",
       "0  002be0ffdc997bd5c50703158b7c2491  006d61cf7446e682f7bc50b0f8a5bea5   \n",
       "1  002be0ffdc997bd5c50703158b7c2491  01b522c5c3a756fbdb12e95e87507eda   \n",
       "2  002be0ffdc997bd5c50703158b7c2491  029227c4c2971ce69ff2274dc798ef43   \n",
       "3  002be0ffdc997bd5c50703158b7c2491  034e861343a63ac3c18a9ceb1ce0ac69   \n",
       "4  002be0ffdc997bd5c50703158b7c2491  034f2e614a2f9fc7f1c2f77647d1b981   \n",
       "\n",
       "   ride_distance  ride_duration  ride_prime_time  \n",
       "0           1811            327               50  \n",
       "1           3362            809                0  \n",
       "2           3282            572                0  \n",
       "3          65283           3338               25  \n",
       "4           4115            823              100  "
      ]
     },
     "execution_count": 4,
     "metadata": {},
     "output_type": "execute_result"
    }
   ],
   "source": [
    "ride_ids = pd.read_csv(\"ride_ids.csv\")\n",
    "ride_ids.head()"
   ]
  },
  {
   "cell_type": "markdown",
   "metadata": {},
   "source": [
    "## ride_timestamps.csv\n",
    "**ride_id** - Unique identifier for a ride  \n",
    "**event** - event describes the type of event (see below)  \n",
    "**timestamp** - Time of event  \n",
    "\n",
    "**Event Descriptions**  \n",
    "*requested_at* - passenger requested a ride  \n",
    "*accepted_at* - driver accepted a passenger request  \n",
    "*arrived_at* - driver arrived at pickup point  \n",
    "*picked_up_at* - driver picked up the passenger  \n",
    "*dropped_off_at* - driver dropped off a passenger at destination  "
   ]
  },
  {
   "cell_type": "code",
   "execution_count": 137,
   "metadata": {},
   "outputs": [
    {
     "data": {
      "text/html": [
       "<div>\n",
       "<style scoped>\n",
       "    .dataframe tbody tr th:only-of-type {\n",
       "        vertical-align: middle;\n",
       "    }\n",
       "\n",
       "    .dataframe tbody tr th {\n",
       "        vertical-align: top;\n",
       "    }\n",
       "\n",
       "    .dataframe thead th {\n",
       "        text-align: right;\n",
       "    }\n",
       "</style>\n",
       "<table border=\"1\" class=\"dataframe\">\n",
       "  <thead>\n",
       "    <tr style=\"text-align: right;\">\n",
       "      <th></th>\n",
       "      <th>ride_id</th>\n",
       "      <th>event</th>\n",
       "      <th>timestamp</th>\n",
       "    </tr>\n",
       "  </thead>\n",
       "  <tbody>\n",
       "    <tr>\n",
       "      <th>0</th>\n",
       "      <td>00003037a262d9ee40e61b5c0718f7f0</td>\n",
       "      <td>requested_at</td>\n",
       "      <td>2016-06-13 09:39:19</td>\n",
       "    </tr>\n",
       "    <tr>\n",
       "      <th>1</th>\n",
       "      <td>00003037a262d9ee40e61b5c0718f7f0</td>\n",
       "      <td>accepted_at</td>\n",
       "      <td>2016-06-13 09:39:51</td>\n",
       "    </tr>\n",
       "    <tr>\n",
       "      <th>2</th>\n",
       "      <td>00003037a262d9ee40e61b5c0718f7f0</td>\n",
       "      <td>arrived_at</td>\n",
       "      <td>2016-06-13 09:44:31</td>\n",
       "    </tr>\n",
       "    <tr>\n",
       "      <th>3</th>\n",
       "      <td>00003037a262d9ee40e61b5c0718f7f0</td>\n",
       "      <td>picked_up_at</td>\n",
       "      <td>2016-06-13 09:44:33</td>\n",
       "    </tr>\n",
       "    <tr>\n",
       "      <th>4</th>\n",
       "      <td>00003037a262d9ee40e61b5c0718f7f0</td>\n",
       "      <td>dropped_off_at</td>\n",
       "      <td>2016-06-13 10:03:05</td>\n",
       "    </tr>\n",
       "  </tbody>\n",
       "</table>\n",
       "</div>"
      ],
      "text/plain": [
       "                            ride_id           event            timestamp\n",
       "0  00003037a262d9ee40e61b5c0718f7f0    requested_at  2016-06-13 09:39:19\n",
       "1  00003037a262d9ee40e61b5c0718f7f0     accepted_at  2016-06-13 09:39:51\n",
       "2  00003037a262d9ee40e61b5c0718f7f0      arrived_at  2016-06-13 09:44:31\n",
       "3  00003037a262d9ee40e61b5c0718f7f0    picked_up_at  2016-06-13 09:44:33\n",
       "4  00003037a262d9ee40e61b5c0718f7f0  dropped_off_at  2016-06-13 10:03:05"
      ]
     },
     "execution_count": 137,
     "metadata": {},
     "output_type": "execute_result"
    }
   ],
   "source": [
    "ride_timestamps = pd.read_csv(\"ride_timestamps.csv\")\n",
    "ride_timestamps.head()"
   ]
  },
  {
   "cell_type": "markdown",
   "metadata": {},
   "source": [
    "## Overview of the entire data set\n",
    "\n",
    "Brief overview to better understand the data set. Averages across all drivers and summaries are made of the variables provided. Plots will also be generated to help visualize data and reveal potential outliers. **Refer to the markdown box before each cell to understand what the code is representing**"
   ]
  },
  {
   "cell_type": "markdown",
   "metadata": {},
   "source": [
    "## Cleaning the data set (big sad)"
   ]
  },
  {
   "cell_type": "code",
   "execution_count": 154,
   "metadata": {},
   "outputs": [
    {
     "name": "stdout",
     "output_type": "stream",
     "text": [
      "Empty DataFrame\n",
      "Columns: [driver_id, driver_onboard_date]\n",
      "Index: []\n",
      "Empty DataFrame\n",
      "Columns: [driver_id, ride_id, ride_distance, ride_duration, ride_prime_time]\n",
      "Index: []\n",
      "                                 ride_id       event timestamp\n",
      "434222  72f0fa0bd86800e9da5c4dced32c8735  arrived_at       NaT\n"
     ]
    }
   ],
   "source": [
    "driver_ids.sort_values(\"driver_onboard_date\", ascending=True, inplace=True) #Sorts the drivers by date joined\n",
    "driver_ids[\"driver_onboard_date\"] = pd.to_datetime(driver_ids[\"driver_onboard_date\"]) # converts strings to timestamp objects\n",
    "\n",
    "driver_ids_na = driver_ids[driver_ids[\"driver_onboard_date\"].isnull() | driver_ids[\"driver_onboard_date\"].isnull()]\n",
    "print(driver_ids_na) # No nan values in ride_ids\n",
    "\n",
    "ride_ids_na = ride_ids[ride_ids[\"ride_distance\"].isnull() | ride_ids[\"ride_duration\"].isnull() \n",
    "                       | ride_ids[\"ride_prime_time\"].isnull() | ride_ids[\"ride_id\"].isnull() | ride_ids[\"driver_id\"].isnull()]\n",
    "print(ride_ids_na) # No nan values in ride_ids\n",
    "\n",
    "ride_timestamps.sort_values(\"timestamp\", ascending=True, inplace=True) #ride_timestamps is now sorted by timestamp\n",
    "ride_timestamps[\"timestamp\"] = pd.to_datetime(ride_timestamps[\"timestamp\"]) # converts strings to timestamp objects\n",
    "\n",
    "ride_timestamps_na = ride_timestamps[ride_timestamps[\"timestamp\"].isnull() | ride_timestamps[\"event\"].isnull()\n",
    "                                    | ride_timestamps[\"ride_id\"].isnull()]\n",
    "print(ride_timestamps_na) # One nan value: Index 434222\n"
   ]
  },
  {
   "cell_type": "markdown",
   "metadata": {},
   "source": [
    "**NaN value**  \n",
    "It seems that there is one nan value in the timestamps data set. We will need to do a further inspection by looking at the other events and variables related to the ride_id. \n",
    "\n",
    "**TLDR;**  \n",
    "Lol. So I'm assuming that the drivers and lyft users self-report arrival time and pick up time. So in some instances, the arrival time is later than the pick up time?? I don't think we're going to be using that difference hopefully, but if anyone mentions it, we can talk about human error. One way of doing it is just **removing all the negative differences** and analyze the positive differences. That's what I'm doing. lol.\n",
    "\n",
    "**Other than that, the data is pretty clean (hopefully)**"
   ]
  },
  {
   "cell_type": "code",
   "execution_count": 105,
   "metadata": {},
   "outputs": [
    {
     "data": {
      "text/html": [
       "<div>\n",
       "<style scoped>\n",
       "    .dataframe tbody tr th:only-of-type {\n",
       "        vertical-align: middle;\n",
       "    }\n",
       "\n",
       "    .dataframe tbody tr th {\n",
       "        vertical-align: top;\n",
       "    }\n",
       "\n",
       "    .dataframe thead th {\n",
       "        text-align: right;\n",
       "    }\n",
       "</style>\n",
       "<table border=\"1\" class=\"dataframe\">\n",
       "  <thead>\n",
       "    <tr style=\"text-align: right;\">\n",
       "      <th></th>\n",
       "      <th>ride_id</th>\n",
       "      <th>event</th>\n",
       "      <th>timestamp</th>\n",
       "    </tr>\n",
       "  </thead>\n",
       "  <tbody>\n",
       "    <tr>\n",
       "      <th>434222</th>\n",
       "      <td>72f0fa0bd86800e9da5c4dced32c8735</td>\n",
       "      <td>arrived_at</td>\n",
       "      <td>NaT</td>\n",
       "    </tr>\n",
       "  </tbody>\n",
       "</table>\n",
       "</div>"
      ],
      "text/plain": [
       "                                 ride_id       event timestamp\n",
       "434222  72f0fa0bd86800e9da5c4dced32c8735  arrived_at       NaT"
      ]
     },
     "execution_count": 105,
     "metadata": {},
     "output_type": "execute_result"
    }
   ],
   "source": [
    "ride_timestamps_na"
   ]
  },
  {
   "cell_type": "code",
   "execution_count": 106,
   "metadata": {},
   "outputs": [
    {
     "data": {
      "text/html": [
       "<div>\n",
       "<style scoped>\n",
       "    .dataframe tbody tr th:only-of-type {\n",
       "        vertical-align: middle;\n",
       "    }\n",
       "\n",
       "    .dataframe tbody tr th {\n",
       "        vertical-align: top;\n",
       "    }\n",
       "\n",
       "    .dataframe thead th {\n",
       "        text-align: right;\n",
       "    }\n",
       "</style>\n",
       "<table border=\"1\" class=\"dataframe\">\n",
       "  <thead>\n",
       "    <tr style=\"text-align: right;\">\n",
       "      <th></th>\n",
       "      <th>ride_id</th>\n",
       "      <th>event</th>\n",
       "      <th>timestamp</th>\n",
       "    </tr>\n",
       "  </thead>\n",
       "  <tbody>\n",
       "    <tr>\n",
       "      <th>434220</th>\n",
       "      <td>72f0fa0bd86800e9da5c4dced32c8735</td>\n",
       "      <td>requested_at</td>\n",
       "      <td>2016-04-20 11:56:50</td>\n",
       "    </tr>\n",
       "    <tr>\n",
       "      <th>434221</th>\n",
       "      <td>72f0fa0bd86800e9da5c4dced32c8735</td>\n",
       "      <td>accepted_at</td>\n",
       "      <td>2016-04-20 11:57:20</td>\n",
       "    </tr>\n",
       "    <tr>\n",
       "      <th>434223</th>\n",
       "      <td>72f0fa0bd86800e9da5c4dced32c8735</td>\n",
       "      <td>picked_up_at</td>\n",
       "      <td>2016-04-20 12:02:20</td>\n",
       "    </tr>\n",
       "    <tr>\n",
       "      <th>434224</th>\n",
       "      <td>72f0fa0bd86800e9da5c4dced32c8735</td>\n",
       "      <td>dropped_off_at</td>\n",
       "      <td>2016-04-20 12:16:30</td>\n",
       "    </tr>\n",
       "    <tr>\n",
       "      <th>434222</th>\n",
       "      <td>72f0fa0bd86800e9da5c4dced32c8735</td>\n",
       "      <td>arrived_at</td>\n",
       "      <td>NaT</td>\n",
       "    </tr>\n",
       "  </tbody>\n",
       "</table>\n",
       "</div>"
      ],
      "text/plain": [
       "                                 ride_id           event           timestamp\n",
       "434220  72f0fa0bd86800e9da5c4dced32c8735    requested_at 2016-04-20 11:56:50\n",
       "434221  72f0fa0bd86800e9da5c4dced32c8735     accepted_at 2016-04-20 11:57:20\n",
       "434223  72f0fa0bd86800e9da5c4dced32c8735    picked_up_at 2016-04-20 12:02:20\n",
       "434224  72f0fa0bd86800e9da5c4dced32c8735  dropped_off_at 2016-04-20 12:16:30\n",
       "434222  72f0fa0bd86800e9da5c4dced32c8735      arrived_at                 NaT"
      ]
     },
     "execution_count": 106,
     "metadata": {},
     "output_type": "execute_result"
    }
   ],
   "source": [
    "#Let's take a look at the other timestamps with the same ride_id\n",
    "ride_timestamps[ride_timestamps[\"ride_id\"] == \"72f0fa0bd86800e9da5c4dced32c8735\"]"
   ]
  },
  {
   "cell_type": "markdown",
   "metadata": {},
   "source": [
    "It looks like the driver arrived at the pick up spot sometime between 11:57 and 12:02, a 5 minute window frame. We can asses the other rides of the driver to assign an accurate estimate. "
   ]
  },
  {
   "cell_type": "code",
   "execution_count": 141,
   "metadata": {},
   "outputs": [
    {
     "name": "stdout",
     "output_type": "stream",
     "text": [
      "Average time: -2.145454545\n",
      "Median time: 2.0\n",
      "event\n",
      "arrived_at     2016-04-13 13:08:21\n",
      "picked_up_at   2016-04-13 13:04:24\n",
      "Name: 6aca1ea59fbacd2964a79a05271b76a3, dtype: datetime64[ns]\n"
     ]
    },
    {
     "data": {
      "text/html": [
       "<div>\n",
       "<style scoped>\n",
       "    .dataframe tbody tr th:only-of-type {\n",
       "        vertical-align: middle;\n",
       "    }\n",
       "\n",
       "    .dataframe tbody tr th {\n",
       "        vertical-align: top;\n",
       "    }\n",
       "\n",
       "    .dataframe thead th {\n",
       "        text-align: right;\n",
       "    }\n",
       "</style>\n",
       "<table border=\"1\" class=\"dataframe\">\n",
       "  <thead>\n",
       "    <tr style=\"text-align: right;\">\n",
       "      <th></th>\n",
       "      <th>ride_id</th>\n",
       "      <th>event</th>\n",
       "      <th>timestamp</th>\n",
       "    </tr>\n",
       "  </thead>\n",
       "  <tbody>\n",
       "    <tr>\n",
       "      <th>403105</th>\n",
       "      <td>6aca1ea59fbacd2964a79a05271b76a3</td>\n",
       "      <td>requested_at</td>\n",
       "      <td>2016-04-13 12:56:04</td>\n",
       "    </tr>\n",
       "    <tr>\n",
       "      <th>403106</th>\n",
       "      <td>6aca1ea59fbacd2964a79a05271b76a3</td>\n",
       "      <td>accepted_at</td>\n",
       "      <td>2016-04-13 12:56:10</td>\n",
       "    </tr>\n",
       "    <tr>\n",
       "      <th>403107</th>\n",
       "      <td>6aca1ea59fbacd2964a79a05271b76a3</td>\n",
       "      <td>arrived_at</td>\n",
       "      <td>2016-04-13 13:08:21</td>\n",
       "    </tr>\n",
       "    <tr>\n",
       "      <th>403108</th>\n",
       "      <td>6aca1ea59fbacd2964a79a05271b76a3</td>\n",
       "      <td>picked_up_at</td>\n",
       "      <td>2016-04-13 13:04:24</td>\n",
       "    </tr>\n",
       "    <tr>\n",
       "      <th>403109</th>\n",
       "      <td>6aca1ea59fbacd2964a79a05271b76a3</td>\n",
       "      <td>dropped_off_at</td>\n",
       "      <td>2016-04-13 13:14:30</td>\n",
       "    </tr>\n",
       "  </tbody>\n",
       "</table>\n",
       "</div>"
      ],
      "text/plain": [
       "                                 ride_id           event           timestamp\n",
       "403105  6aca1ea59fbacd2964a79a05271b76a3    requested_at 2016-04-13 12:56:04\n",
       "403106  6aca1ea59fbacd2964a79a05271b76a3     accepted_at 2016-04-13 12:56:10\n",
       "403107  6aca1ea59fbacd2964a79a05271b76a3      arrived_at 2016-04-13 13:08:21\n",
       "403108  6aca1ea59fbacd2964a79a05271b76a3    picked_up_at 2016-04-13 13:04:24\n",
       "403109  6aca1ea59fbacd2964a79a05271b76a3  dropped_off_at 2016-04-13 13:14:30"
      ]
     },
     "execution_count": 141,
     "metadata": {},
     "output_type": "execute_result"
    }
   ],
   "source": [
    "#Let's take a look at the driver's other rides. First we need to find the driver_id associated with the ride_id.\n",
    "nan_driver_id = ride_ids.query(\"ride_id == '72f0fa0bd86800e9da5c4dced32c8735'\")[\"driver_id\"]\n",
    "\n",
    "#Look at the rest of the rides associated with this driver.\n",
    "nan_driver_rides = ride_ids.query(\"driver_id == '7c1478b12207107ae4296e656a49d6f6'\").drop([\"ride_distance\", \n",
    "                                                                                              \"ride_duration\",\n",
    "                                                                                              \"ride_prime_time\"], axis=1)\n",
    "\n",
    "#We can do a left join with the ride_timestamps to find all the requested_at and accepted_at timestamps of each ride.\n",
    "nan_rides_timestamps = pd.merge(nan_driver_rides, ride_timestamps, how='left', on='ride_id').query(\"event == 'arrived_at'\" +\n",
    "                                                                                                  \"| event == 'picked_up_at'\")\n",
    "\n",
    "#We can pivot the table and then find the avg time between arrived_at and picked_up time.\n",
    "nan_rides_timestamps = nan_rides_timestamps.pivot(index=\"ride_id\", columns=\"event\", values=\"timestamp\").sort_values(\"arrived_at\")\n",
    "nan_rides_timestamps\n",
    "\n",
    "avg_time = np.mean(nan_rides_timestamps[\"picked_up_at\"] - nan_rides_timestamps[\"arrived_at\"])/np.timedelta64(1,'s')\n",
    "median_time = np.median(nan_rides_timestamps[\"picked_up_at\"] - nan_rides_timestamps[\"arrived_at\"])/np.timedelta64(1,'s')\n",
    "print(\"Average time: \" + str(avg_time)) #It seems there is an average time of 2 seconds so we can just plug that value in for the driver\n",
    "print(\"Median time: \" + str(median_time))\n",
    "#print((nan_rides_timestamps[\"picked_up_at\"] - nan_rides_timestamps[\"arrived_at\"])/np.timedelta64(1,'s')) #wtf why is there a -237\n",
    "\n",
    "print(nan_rides_timestamps.loc[\"6aca1ea59fbacd2964a79a05271b76a3\", :])\n",
    "ride_timestamps.query(\"ride_id == '6aca1ea59fbacd2964a79a05271b76a3'\")"
   ]
  },
  {
   "cell_type": "code",
   "execution_count": 164,
   "metadata": {},
   "outputs": [
    {
     "name": "stdout",
     "output_type": "stream",
     "text": [
      "831.0\n",
      "-3476.0\n"
     ]
    },
    {
     "name": "stderr",
     "output_type": "stream",
     "text": [
      "/anaconda3/lib/python3.6/site-packages/numpy/lib/function_base.py:780: RuntimeWarning: invalid value encountered in greater_equal\n",
      "  keep = (tmp_a >= first_edge)\n",
      "/anaconda3/lib/python3.6/site-packages/numpy/lib/function_base.py:781: RuntimeWarning: invalid value encountered in less_equal\n",
      "  keep &= (tmp_a <= last_edge)\n"
     ]
    },
    {
     "data": {
      "image/png": "[encoded data removed]",
      "text/plain": [
       "<Figure size 432x288 with 1 Axes>"
      ]
     },
     "metadata": {},
     "output_type": "display_data"
    },
    {
     "data": {
      "text/plain": [
       "Index(['0001480a2c27492b1f8cb5fbc38ca667', '0004a3db0fb83d99007c394173660ac3',\n",
       "       '000c670907b0568169841eed62528880', '0018c1ba44e0d4342e938a53073cbd10',\n",
       "       '0022fe374e96506147a39575ac525165', '0024ec68edefcde7f253b581fa28dfc3',\n",
       "       '00367dd7bfe892a2d753b859fcaa5c5c', '003945026d2b50d879c69b739276e50d',\n",
       "       '004e9f1508ec18da15408b99e832bb8b', '00607b911f1f974ea38c3eb292912fe4',\n",
       "       ...\n",
       "       'ffc4c71a02f252cf490430ab64d319a0', 'ffd296479e0437be32a47fef7cc298b3',\n",
       "       'ffd5e27e1e9d50fa8c6da6a93ebe7e38', 'ffd7f5f887a9a9b312e2f75eb8e1edcc',\n",
       "       'ffd852fddf76b03f8cd16ab9f421fabd', 'ffda480d975b1da422a6334b5c12fc97',\n",
       "       'ffedbc5cdb39d85df13305380d773317', 'fff413861e9fde9fd294d9313cfc949c',\n",
       "       'fff672ec0d550e787cdb6e87cfc61e4a', 'fffe87c305afa41349e56f63731e04ea'],\n",
       "      dtype='object', name='ride_id', length=8496)"
      ]
     },
     "execution_count": 164,
     "metadata": {},
     "output_type": "execute_result"
    }
   ],
   "source": [
    "# Okay, why are there negative arrived and picked up at wtf.\n",
    "pivot_timestamps = ride_timestamps.pivot(index=\"ride_id\", columns=\"event\", values=\"timestamp\")\n",
    "pivot_timestamps.query(\"picked_up_at < arrived_at\")\n",
    "diff = (pivot_timestamps[\"picked_up_at\"] - pivot_timestamps[\"arrived_at\"])/np.timedelta64(1,'s')\n",
    "print(max(diff))\n",
    "print(min(diff))\n",
    "plt.hist(diff)\n",
    "plt.show()\n",
    "\n",
    "#TBH we can probably remove the negative differences from the data set since the proportion of positive differences are greater\n",
    "tf = pivot_timestamps.query(\"picked_up_at < arrived_at\").index\n",
    "tf"
   ]
  },
  {
   "cell_type": "code",
   "execution_count": 177,
   "metadata": {},
   "outputs": [
    {
     "name": "stdout",
     "output_type": "stream",
     "text": [
      "970405\n",
      "927925\n",
      "5.0\n"
     ]
    },
    {
     "data": {
      "text/html": [
       "<div>\n",
       "<style scoped>\n",
       "    .dataframe tbody tr th:only-of-type {\n",
       "        vertical-align: middle;\n",
       "    }\n",
       "\n",
       "    .dataframe tbody tr th {\n",
       "        vertical-align: top;\n",
       "    }\n",
       "\n",
       "    .dataframe thead th {\n",
       "        text-align: right;\n",
       "    }\n",
       "</style>\n",
       "<table border=\"1\" class=\"dataframe\">\n",
       "  <thead>\n",
       "    <tr style=\"text-align: right;\">\n",
       "      <th></th>\n",
       "      <th>event</th>\n",
       "      <th>timestamp</th>\n",
       "    </tr>\n",
       "    <tr>\n",
       "      <th>ride_id</th>\n",
       "      <th></th>\n",
       "      <th></th>\n",
       "    </tr>\n",
       "  </thead>\n",
       "  <tbody>\n",
       "    <tr>\n",
       "      <th>655ccbeb2a62880159e20e986c1cdaeb</th>\n",
       "      <td>requested_at</td>\n",
       "      <td>2016-03-28 05:48:18</td>\n",
       "    </tr>\n",
       "    <tr>\n",
       "      <th>655ccbeb2a62880159e20e986c1cdaeb</th>\n",
       "      <td>accepted_at</td>\n",
       "      <td>2016-03-28 05:48:23</td>\n",
       "    </tr>\n",
       "    <tr>\n",
       "      <th>655ccbeb2a62880159e20e986c1cdaeb</th>\n",
       "      <td>arrived_at</td>\n",
       "      <td>2016-03-28 06:02:36</td>\n",
       "    </tr>\n",
       "    <tr>\n",
       "      <th>655ccbeb2a62880159e20e986c1cdaeb</th>\n",
       "      <td>picked_up_at</td>\n",
       "      <td>2016-03-28 06:02:39</td>\n",
       "    </tr>\n",
       "    <tr>\n",
       "      <th>655ccbeb2a62880159e20e986c1cdaeb</th>\n",
       "      <td>dropped_off_at</td>\n",
       "      <td>2016-03-28 06:37:51</td>\n",
       "    </tr>\n",
       "  </tbody>\n",
       "</table>\n",
       "</div>"
      ],
      "text/plain": [
       "                                           event           timestamp\n",
       "ride_id                                                             \n",
       "655ccbeb2a62880159e20e986c1cdaeb    requested_at 2016-03-28 05:48:18\n",
       "655ccbeb2a62880159e20e986c1cdaeb     accepted_at 2016-03-28 05:48:23\n",
       "655ccbeb2a62880159e20e986c1cdaeb      arrived_at 2016-03-28 06:02:36\n",
       "655ccbeb2a62880159e20e986c1cdaeb    picked_up_at 2016-03-28 06:02:39\n",
       "655ccbeb2a62880159e20e986c1cdaeb  dropped_off_at 2016-03-28 06:37:51"
      ]
     },
     "execution_count": 177,
     "metadata": {},
     "output_type": "execute_result"
    }
   ],
   "source": [
    "ride_timestamps_clean = ride_timestamps.set_index(\"ride_id\").drop(tf, axis=0)\n",
    "ride_timestamps_clean.head()\n",
    "print(ride_timestamps.shape[0])\n",
    "print(ride_timestamps_clean.shape[0])\n",
    "print((ride_timestamps.shape[0] - ride_timestamps_clean.shape[0])/len(tf)) ## Checking that ride_timestamps_clean is actually clean\n",
    "ride_timestamps_clean.head()"
   ]
  },
  {
   "cell_type": "markdown",
   "metadata": {},
   "source": [
    "## Important\n",
    "**As of this cell, ride_timestamps_clean is cleaned from all glitchy arrival times. If you want to use arrival times or pick up times as a variable, please refer to ride_timestamps_clean**"
   ]
  },
  {
   "cell_type": "markdown",
   "metadata": {},
   "source": [
    "## The sample population and its statistics\n",
    "\n",
    "In the following lines of code, we will explore some of the statistics of the Lyft Drivers as a whole. How many drivers are represented in the data set? How many total rides are there? What is the timespan the dataset covers? ... etc. "
   ]
  },
  {
   "cell_type": "code",
   "execution_count": 182,
   "metadata": {},
   "outputs": [],
   "source": [
    "num_drivers = driver_ids.shape[0]\n",
    "num_rides = ride_ids.shape[0]\n",
    "earliest_ride = ride_timestamps[\"timestamp\"].iloc[0]\n",
    "latest_ride = ride_timestamps[\"timestamp\"].iloc[ride_timestamps.shape[0]-2]\n",
    "earliest_onboard_date = driver_ids.loc[0, 'driver_onboard_date']\n",
    "latest_onboard_date = driver_ids.iloc[-1, 1]"
   ]
  },
  {
   "cell_type": "code",
   "execution_count": 184,
   "metadata": {},
   "outputs": [
    {
     "name": "stdout",
     "output_type": "stream",
     "text": [
      "Total number of num_drivers: 937\n",
      "Total number of rides: 193502\n",
      "Earliest recorded ride: 2016-03-28 05:48:18\n",
      "Most recent recorded ride: 2016-06-27 00:50:50\n",
      "Earliest recorded driver onboard date: 2016-03-29 00:00:00\n",
      "Most recent recorded driver onboard date: 2016-05-15 00:00:00\n"
     ]
    }
   ],
   "source": [
    "print(\"Total number of num_drivers: \" + str(num_drivers))\n",
    "print(\"Total number of rides: \" + str(num_rides))\n",
    "print(\"Earliest recorded ride: \" + str(earliest_ride))\n",
    "print(\"Most recent recorded ride: \" + str(latest_ride)) ##There is a NaN value in the ride_timestamps file.\n",
    "print(\"Earliest recorded driver onboard date: \" + str(earliest_onboard_date))\n",
    "print(\"Most recent recorded driver onboard date: \" + str(latest_onboard_date))"
   ]
  },
  {
   "cell_type": "markdown",
   "metadata": {},
   "source": [
    "**Pause...Understanding the dataset**\n",
    "\n",
    "From this overview, we can understand where this dataset is coming from. It seems that the data is pulled from drivers that joined Lyft starting from late March 2016 till May 2016. The data captures rides starting from the 29th of March till the 27th of June. We can visualize the distribution of the number of rides per driver and other variables."
   ]
  },
  {
   "cell_type": "code",
   "execution_count": 196,
   "metadata": {},
   "outputs": [
    {
     "data": {
      "image/png": "[encoded data removed]",
      "text/plain": [
       "<Figure size 432x288 with 1 Axes>"
      ]
     },
     "metadata": {},
     "output_type": "display_data"
    }
   ],
   "source": [
    "num_rides = ride_ids.groupby(\"driver_id\").count()[\"ride_id\"]\n",
    "plt.hist(num_rides, bins=np.arange(0,900,25))\n",
    "plt.title(\"Number of rides per driver\")\n",
    "plt.xlabel(\"Number of rides\")\n",
    "plt.ylabel(\"Number of drivers\")\n",
    "plt.show()"
   ]
  },
  {
   "cell_type": "code",
   "execution_count": null,
   "metadata": {},
   "outputs": [],
   "source": [
    "avg_distance_"
   ]
  }
 ],
 "metadata": {
  "kernelspec": {
   "display_name": "Python 3",
   "language": "python",
   "name": "python3"
  },
  "language_info": {
   "codemirror_mode": {
    "name": "ipython",
    "version": 3
   },
   "file_extension": ".py",
   "mimetype": "text/x-python",
   "name": "python",
   "nbconvert_exporter": "python",
   "pygments_lexer": "ipython3",
   "version": "3.6.5"
  }
 },
 "nbformat": 4,
 "nbformat_minor": 2
}
